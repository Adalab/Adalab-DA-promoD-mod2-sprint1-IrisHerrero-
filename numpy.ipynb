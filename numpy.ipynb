{
 "cells": [
  {
   "attachments": {},
   "cell_type": "markdown",
   "metadata": {},
   "source": [
    "#  Ejercicios de Numpy"
   ]
  },
  {
   "attachments": {},
   "cell_type": "markdown",
   "metadata": {},
   "source": [
    "1. mporta la librería de NumPy."
   ]
  },
  {
   "cell_type": "code",
   "execution_count": 2,
   "metadata": {},
   "outputs": [],
   "source": [
    "import numpy as np "
   ]
  },
  {
   "attachments": {},
   "cell_type": "markdown",
   "metadata": {},
   "source": [
    "2. Crea un array de 1 dimension y 10 elementos."
   ]
  },
  {
   "cell_type": "code",
   "execution_count": 3,
   "metadata": {},
   "outputs": [
    {
     "data": {
      "text/plain": [
       "array([4, 9, 5, 6, 6, 9, 1, 3, 8, 1])"
      ]
     },
     "execution_count": 3,
     "metadata": {},
     "output_type": "execute_result"
    }
   ],
   "source": [
    "dimension1 = np.random.randint(0,10, (10)) #creamos un array aleatorio con una dimensión, señalando la franja de números que queremos, entre 0 y 10\n",
    "dimension1 "
   ]
  },
  {
   "attachments": {},
   "cell_type": "markdown",
   "metadata": {},
   "source": [
    "3. Reemplaza todos los números impares por el valor \"par\" y los pares por \"par\". Para hacer esto os tendréis que crear un array nuevo donde vayáis añadiendo los valores nuevos."
   ]
  },
  {
   "cell_type": "code",
   "execution_count": 4,
   "metadata": {},
   "outputs": [
    {
     "data": {
      "text/plain": [
       "array(['', '', '', '', '', '', '', '', '', ''], dtype='<U1')"
      ]
     },
     "execution_count": 4,
     "metadata": {},
     "output_type": "execute_result"
    }
   ],
   "source": [
    "array_contenedor = np.empty_like(dimension1, dtype = str) #creamos un array vacío que nos sirva de contenedor para insertar el resultado de nuestro bucle for\n",
    "array_contenedor #este array está construido con las mismas características que el array inicial"
   ]
  },
  {
   "cell_type": "code",
   "execution_count": 5,
   "metadata": {},
   "outputs": [
    {
     "name": "stdout",
     "output_type": "stream",
     "text": [
      "['p' 'i' 'i' 'p' 'p' 'i' 'i' 'i' 'p' 'i']\n"
     ]
    }
   ],
   "source": [
    "for n in range(0, dimension1.shape[0]): #este bucle for nos permite iterar por el array inicial de una dimensión\n",
    "    if dimension1[n] % 2 == 0:       #si en el array inicial se han generado números pares\n",
    "        array_contenedor[n] = 'par'  #en el contenedor se nos creará 'par' en sustitución \n",
    "\n",
    "    else:                             #si en el array inicial se han generado números pares\n",
    "        array_contenedor[n] = 'impar' #en el contenedor se nos creará 'impar' en sustitución \n",
    "\n",
    "print(array_contenedor) #por alguna razón sólo se imprimen las primeras letras"
   ]
  },
  {
   "attachments": {},
   "cell_type": "markdown",
   "metadata": {},
   "source": [
    "4. Cambiad la forma del array del ejercicio 3 a un array de 2 filas y 5 columnas."
   ]
  },
  {
   "cell_type": "code",
   "execution_count": 6,
   "metadata": {},
   "outputs": [
    {
     "data": {
      "text/plain": [
       "array([['p', 'i', 'i', 'p', 'p'],\n",
       "       ['i', 'i', 'i', 'p', 'i']], dtype='<U1')"
      ]
     },
     "execution_count": 6,
     "metadata": {},
     "output_type": "execute_result"
    }
   ],
   "source": [
    "array_contenedor.reshape(2,5) #con el método .reshape() modificamos a nuestro gusto el array"
   ]
  },
  {
   "attachments": {},
   "cell_type": "markdown",
   "metadata": {},
   "source": [
    "5. Extrae los elementos comunes de los siguientes arrays"
   ]
  },
  {
   "cell_type": "code",
   "execution_count": 7,
   "metadata": {},
   "outputs": [],
   "source": [
    "array1 = np.array([1,2,3,2,3,4,3,4,5,6])\n",
    "array2 = np.array([7,2,10,2,7,4,9,4,9,8])"
   ]
  },
  {
   "cell_type": "code",
   "execution_count": 8,
   "metadata": {},
   "outputs": [
    {
     "data": {
      "text/plain": [
       "array([2, 4])"
      ]
     },
     "execution_count": 8,
     "metadata": {},
     "output_type": "execute_result"
    }
   ],
   "source": [
    "np.intersect1d(array1, array2) #.intersec1d() sirve para extraer los elementos comunes de dos arrays, y el output nos eliminan los duplicados"
   ]
  },
  {
   "attachments": {},
   "cell_type": "markdown",
   "metadata": {},
   "source": [
    "6. Extraed los elementos que están en el array1 pero no en el array2."
   ]
  },
  {
   "cell_type": "code",
   "execution_count": 9,
   "metadata": {},
   "outputs": [
    {
     "data": {
      "text/plain": [
       "array([1, 3, 5, 6])"
      ]
     },
     "execution_count": 9,
     "metadata": {},
     "output_type": "execute_result"
    }
   ],
   "source": [
    "np.setdiff1d(array1, array2) #.setdiffid nos extrae los elementos que estan en el array que le demos primero, comparándolo al segundo y extrayendo los diferentes"
   ]
  },
  {
   "attachments": {},
   "cell_type": "markdown",
   "metadata": {},
   "source": [
    "7. Extraed las posiciones donde tengamos elementos que sean iguales."
   ]
  },
  {
   "cell_type": "code",
   "execution_count": 10,
   "metadata": {},
   "outputs": [
    {
     "data": {
      "text/plain": [
       "(array([1, 2, 3, 4, 5, 6]), array([1, 2, 3, 2, 1, 1]))"
      ]
     },
     "execution_count": 10,
     "metadata": {},
     "output_type": "execute_result"
    }
   ],
   "source": [
    "np.unique(array1, return_counts= True ) #unique para ver qué valores únicos tenemos y su posición en el siguiente array"
   ]
  },
  {
   "cell_type": "code",
   "execution_count": 11,
   "metadata": {},
   "outputs": [
    {
     "data": {
      "text/plain": [
       "(array([ 2,  4,  7,  8,  9, 10]), array([2, 2, 2, 1, 2, 1]))"
      ]
     },
     "execution_count": 11,
     "metadata": {},
     "output_type": "execute_result"
    }
   ],
   "source": [
    "np.unique(array2, return_counts= True )"
   ]
  },
  {
   "attachments": {},
   "cell_type": "markdown",
   "metadata": {},
   "source": [
    "8. Cread un array de 3 filas y 5 columnas, con números enteros del 0 al 50. Una vez creado, extrae los valores que sean menores que 10 y mayores que 40."
   ]
  },
  {
   "cell_type": "code",
   "execution_count": 12,
   "metadata": {},
   "outputs": [
    {
     "data": {
      "text/plain": [
       "array([[30, 11,  0, 36, 11],\n",
       "       [21, 24, 29, 22, 12],\n",
       "       [35, 28, 33, 43, 21]])"
      ]
     },
     "execution_count": 12,
     "metadata": {},
     "output_type": "execute_result"
    }
   ],
   "source": [
    "dimension2 = np.random.randint(0, 50,(3,5))\n",
    "dimension2 #creamos un array con números aleatorios en dos dimensiones"
   ]
  },
  {
   "cell_type": "code",
   "execution_count": 13,
   "metadata": {},
   "outputs": [
    {
     "data": {
      "text/plain": [
       "(3, 5)"
      ]
     },
     "execution_count": 13,
     "metadata": {},
     "output_type": "execute_result"
    }
   ],
   "source": [
    "dimension2.shape"
   ]
  },
  {
   "cell_type": "code",
   "execution_count": 14,
   "metadata": {},
   "outputs": [
    {
     "name": "stdout",
     "output_type": "stream",
     "text": [
      "[0, 43]\n"
     ]
    }
   ],
   "source": [
    "valores_d2 = [] #creamos lista vacía para ir acumulando los valores que queramos\n",
    "\n",
    "for n in range(0, dimension2.shape[0]):  #comenzamos el bucle for en la dimensión 1, que corresponde al índice [0]\n",
    "    for num in range(0, dimension2.shape[1]): #entramos en la dimensión 2, que corresponde al índice [1]\n",
    "        if dimension2[n][num] < 10 or dimension2[n][num] >40 and dimension2[n][num] not in valores_d2: #le damos las condiciones que nos pide el enunciado\n",
    "            valores_d2.append(dimension2[n][num]) #le pedimos que nos lo añada a la lista vacía para que luego nos aparezca\n",
    "\n",
    "print(valores_d2)"
   ]
  },
  {
   "attachments": {},
   "cell_type": "markdown",
   "metadata": {},
   "source": [
    "9. Cread un array de 5x3 con números decimales aleatorios entre el 5 y el 10."
   ]
  },
  {
   "cell_type": "code",
   "execution_count": 15,
   "metadata": {},
   "outputs": [
    {
     "data": {
      "text/plain": [
       "array([[9.97835866, 7.05584053, 6.10724475],\n",
       "       [5.4338532 , 7.90339848, 9.38491735],\n",
       "       [7.69210019, 5.50015235, 6.51983391],\n",
       "       [7.37789566, 7.59360403, 9.78293549],\n",
       "       [6.7755998 , 9.23102363, 8.7102236 ]])"
      ]
     },
     "execution_count": 15,
     "metadata": {},
     "output_type": "execute_result"
    }
   ],
   "source": [
    "dimension3 = np.random.uniform(5, 10,(5,3)) #generamos con .uniform() un array de dos dimensiones con números aleatorios decimales de 5 a 10\n",
    "dimension3"
   ]
  },
  {
   "attachments": {},
   "cell_type": "markdown",
   "metadata": {},
   "source": [
    "10. Crea un array de tres dimensiones de 2x4x7 con números entre el 1 y el 20\n",
    "\n",
    "- Transponed el array para que tenga 4 matrices, 7 filas y 2 columnas"
   ]
  },
  {
   "cell_type": "code",
   "execution_count": 16,
   "metadata": {},
   "outputs": [
    {
     "data": {
      "text/plain": [
       "array([[[ 7,  1, 15,  5,  9, 19, 16],\n",
       "        [ 1,  5, 13,  3, 10, 14, 19],\n",
       "        [15,  2,  7,  9,  4, 16,  8],\n",
       "        [10, 15,  9, 19,  4,  3,  2]],\n",
       "\n",
       "       [[ 8, 12,  5, 19,  6, 13, 17],\n",
       "        [ 8,  1, 15,  4, 14,  3, 13],\n",
       "        [ 3,  8,  9, 17,  2, 14, 16],\n",
       "        [ 4,  8, 15, 15,  8, 15,  3]]])"
      ]
     },
     "execution_count": 16,
     "metadata": {},
     "output_type": "execute_result"
    }
   ],
   "source": [
    "dimension31 = np.random.randint(1, 20, (2, 4, 7))\n",
    "dimension31"
   ]
  },
  {
   "cell_type": "code",
   "execution_count": 17,
   "metadata": {},
   "outputs": [
    {
     "data": {
      "text/plain": [
       "array([[[ 7,  8],\n",
       "        [ 1, 12],\n",
       "        [15,  5],\n",
       "        [ 5, 19],\n",
       "        [ 9,  6],\n",
       "        [19, 13],\n",
       "        [16, 17]],\n",
       "\n",
       "       [[ 1,  8],\n",
       "        [ 5,  1],\n",
       "        [13, 15],\n",
       "        [ 3,  4],\n",
       "        [10, 14],\n",
       "        [14,  3],\n",
       "        [19, 13]],\n",
       "\n",
       "       [[15,  3],\n",
       "        [ 2,  8],\n",
       "        [ 7,  9],\n",
       "        [ 9, 17],\n",
       "        [ 4,  2],\n",
       "        [16, 14],\n",
       "        [ 8, 16]],\n",
       "\n",
       "       [[10,  4],\n",
       "        [15,  8],\n",
       "        [ 9, 15],\n",
       "        [19, 15],\n",
       "        [ 4,  8],\n",
       "        [ 3, 15],\n",
       "        [ 2,  3]]])"
      ]
     },
     "execution_count": 17,
     "metadata": {},
     "output_type": "execute_result"
    }
   ],
   "source": [
    "np.transpose(dimension31, (1, 2, 0))"
   ]
  }
 ],
 "metadata": {
  "kernelspec": {
   "display_name": "base",
   "language": "python",
   "name": "python3"
  },
  "language_info": {
   "codemirror_mode": {
    "name": "ipython",
    "version": 3
   },
   "file_extension": ".py",
   "mimetype": "text/x-python",
   "name": "python",
   "nbconvert_exporter": "python",
   "pygments_lexer": "ipython3",
   "version": "3.9.7"
  },
  "orig_nbformat": 4
 },
 "nbformat": 4,
 "nbformat_minor": 2
}
